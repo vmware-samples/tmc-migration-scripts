{
 "cells": [
  {
   "cell_type": "markdown",
   "id": "8a8e93b8-f60a-4222-a156-51672f2ccdd4",
   "metadata": {},
   "source": [
    "# Notebook for TMC SaaS migration TOI demo"
   ]
  },
  {
   "cell_type": "code",
   "execution_count": null,
   "id": "5487c833-cf74-475f-bf50-93bfd218c548",
   "metadata": {
    "scrolled": true
   },
   "outputs": [],
   "source": [
    "uname -a\n",
    "echo \"PWD=$PWD\""
   ]
  },
  {
   "cell_type": "markdown",
   "id": "22b0ad34-b2ed-4a9e-b4b9-5d9d2bd5d30a",
   "metadata": {},
   "source": [
    "## Clean up before execution"
   ]
  },
  {
   "cell_type": "code",
   "execution_count": null,
   "id": "09489acf-257b-4080-be46-a79d8f13be5d",
   "metadata": {},
   "outputs": [],
   "source": [
    "namesuffix=$(date +%s)\n",
    "\n",
    "tar -zcf data_$namesuffix.tar.gz ./data\n",
    "ls -l data_$namesuffix.tar.gz\n",
    "\n",
    "rm -rf ./data\n",
    "ls -l ./data"
   ]
  },
  {
   "cell_type": "markdown",
   "id": "7694c149-9239-4220-b1eb-e83412f6bc51",
   "metadata": {},
   "source": [
    "## Connect to SaaS stack\n",
    "\n",
    "Export the necessary environment variables to initialize the CLI context and exchange the API access token."
   ]
  },
  {
   "cell_type": "code",
   "execution_count": null,
   "id": "e4960105-4b30-4490-b286-fa625bc8cb03",
   "metadata": {},
   "outputs": [],
   "source": [
    "export TANZU_API_TOKEN=g69o-MNlS6aUrMPK0PZlAACbcEApcLQHzn9UXl86TuyAaV9vRRG-M8lNnN_ptBSW\n",
    "export ORG_NAME=trh\n",
    "export TANZU_CLI_CEIP_OPT_IN_PROMPT_ANSWER=no\n",
    "export TOKEN_URL=https://console-stg.tanzu.broadcom.com/csp/gateway/am/api/auth/api-tokens/authorize\n",
    "export REFRESH_TOKEN=$TANZU_API_TOKEN\n",
    "\n",
    "# Export filters\n",
    "export CLUSTER_NAME_FILTER=\"wc-02\"\n",
    "export TMC_MC_FILTER=\"sc-803\"\n",
    "\n",
    "\n",
    "echo \"ENV vars exported!\""
   ]
  },
  {
   "cell_type": "markdown",
   "id": "cf3d25ba-9ec0-4b60-a6f2-dccec50025fc",
   "metadata": {},
   "source": [
    "Override the variables in STG environment, it's not required for customers."
   ]
  },
  {
   "cell_type": "code",
   "execution_count": null,
   "id": "5fec6398-8a64-4b0e-80c0-7f728751fbc6",
   "metadata": {},
   "outputs": [],
   "source": [
    "export CSP_URL=https://console-stg.tanzu.broadcom.com/csp/gateway/am/api/auth/api-tokens/authorize\n",
    "export TMC_ENDPOINT=${ORG_NAME}.tmc-dev.tanzu.broadcom.com"
   ]
  },
  {
   "cell_type": "markdown",
   "id": "7bfb2203-1aaa-42c2-a6bc-cadbb35a4a94",
   "metadata": {},
   "source": [
    "Run **./001-base-saas_stack-connect.sh** to initialize the CLI context and exchange the API access token."
   ]
  },
  {
   "cell_type": "code",
   "execution_count": null,
   "id": "d3169e98-0889-4cec-8b8c-73f498b32dda",
   "metadata": {
    "scrolled": true
   },
   "outputs": [],
   "source": [
    "echo \"Create Tanzu CLI context and exchange an API access token for directly calling the API endpoint with curl.\"\n",
    "\n",
    "echo \"Environment variables needed:\"\n",
    "\n",
    "echo \"TANZU_API_TOKEN=$TANZU_API_TOKEN\"\n",
    "echo \"ORG_NAME=$ORG_NAME\"\n",
    "echo \"TANZU_CLI_CEIP_OPT_IN_PROMPT_ANSWER=$TANZU_CLI_CEIP_OPT_IN_PROMPT_ANSWER\"\n",
    "echo \"TOKEN_URL=$TOKEN_URL\"\n",
    "echo \"REFRESH_TOKEN=$REFRESH_TOKEN\"\n",
    "\n",
    "tanzu config eula accept\n",
    "./001-base-saas_stack-connect.sh"
   ]
  },
  {
   "cell_type": "markdown",
   "id": "203b9868-be07-4151-905c-aa24df135cc9",
   "metadata": {},
   "source": [
    "## Export the base resources"
   ]
  },
  {
   "cell_type": "markdown",
   "id": "0a423b0e-5500-4005-b559-a6526955b888",
   "metadata": {},
   "source": [
    "### Export cluster group"
   ]
  },
  {
   "cell_type": "code",
   "execution_count": null,
   "id": "f3f5fad7-f866-4ec1-a294-33d52a435179",
   "metadata": {},
   "outputs": [],
   "source": [
    "# Export Cluster Groups\n",
    "./002-base-clustergroups-export.sh"
   ]
  },
  {
   "cell_type": "markdown",
   "id": "9b161ab8-7340-4827-8862-2f0838da8b68",
   "metadata": {},
   "source": [
    "### Export workspaces"
   ]
  },
  {
   "cell_type": "code",
   "execution_count": null,
   "id": "efc042bc-03d0-4b4b-b5fd-43444b668963",
   "metadata": {},
   "outputs": [],
   "source": [
    "# Export Workspaces\n",
    "./003-base-workspaces-export.sh "
   ]
  },
  {
   "cell_type": "markdown",
   "id": "20a01d74-e735-4094-96d1-5b429c185ed7",
   "metadata": {},
   "source": [
    "## Export administration resources"
   ]
  },
  {
   "cell_type": "code",
   "execution_count": null,
   "id": "3a9fdfb3-7f4f-4fd6-b1d3-b6d1d5d1723d",
   "metadata": {},
   "outputs": [],
   "source": [
    "# Export Roles\n",
    "./004-admin-roles-export.sh"
   ]
  },
  {
   "cell_type": "code",
   "execution_count": null,
   "id": "fd403d52-94fd-4d1c-be3e-ee2f24613e44",
   "metadata": {},
   "outputs": [],
   "source": [
    "# Export Credentials\n",
    "./005-admin-credentials-export.sh"
   ]
  },
  {
   "cell_type": "code",
   "execution_count": null,
   "id": "a0bee726-0d7a-4db2-8295-828c3bd93574",
   "metadata": {},
   "outputs": [],
   "source": [
    "# Export Access\n",
    "./006-admin-access-export.sh"
   ]
  },
  {
   "cell_type": "code",
   "execution_count": null,
   "id": "595cbadd-d5af-465d-85bc-3b7d1d34c955",
   "metadata": {},
   "outputs": [],
   "source": [
    "# Export Proxy\n",
    "./007-admin-proxy-export.sh"
   ]
  },
  {
   "cell_type": "code",
   "execution_count": null,
   "id": "31829768-4cde-40c2-a8c9-532ac9c65094",
   "metadata": {},
   "outputs": [],
   "source": [
    "# Export Image Registry\n",
    "./008-admin-image-registry-export.sh"
   ]
  },
  {
   "cell_type": "code",
   "execution_count": null,
   "id": "ea179b2b-8c48-4c11-bf08-d766b54e3389",
   "metadata": {},
   "outputs": [],
   "source": [
    "# Export Settings\n",
    "./009-admin-settings-export.sh"
   ]
  },
  {
   "cell_type": "markdown",
   "id": "ab27e1ec-ef92-4667-a677-2aa22d99cc99",
   "metadata": {},
   "source": [
    "## Export add-on resources of cluster group"
   ]
  },
  {
   "cell_type": "code",
   "execution_count": null,
   "id": "d9e9c631-2572-4e3f-b1ec-5bd83fdf0580",
   "metadata": {
    "scrolled": true
   },
   "outputs": [],
   "source": [
    "# Export k8s secret resources of cluster groups\n",
    "./010-clustergroup-secrets-export.sh"
   ]
  },
  {
   "cell_type": "code",
   "execution_count": null,
   "id": "a2eb65fc-e52e-4561-aa31-2b6a62721228",
   "metadata": {},
   "outputs": [],
   "source": [
    "# Export k8s secret export resources of cluster groups\n",
    "./011-clustergroup-secret-exports-export.sh"
   ]
  },
  {
   "cell_type": "code",
   "execution_count": null,
   "id": "128387ad-15e7-40bb-af69-7149371c2b29",
   "metadata": {},
   "outputs": [],
   "source": [
    "# Export fluxcd resources of cluster groups\n",
    "./012-clustergroup-continuous-deliveries-export.sh"
   ]
  },
  {
   "cell_type": "code",
   "execution_count": null,
   "id": "615be711-d69e-4c6d-8eb4-7d3072acf482",
   "metadata": {},
   "outputs": [],
   "source": [
    "# Export git repo credential resources of cluster groups\n",
    "./013-clustergroup-repository-credentials-export.sh"
   ]
  },
  {
   "cell_type": "code",
   "execution_count": null,
   "id": "b27a88ee-b6f2-4418-bb1f-ee1f6829336e",
   "metadata": {},
   "outputs": [],
   "source": [
    "# Export git repository resources of cluster groups\n",
    "./014-clustergroup-git-repositories-export.sh"
   ]
  },
  {
   "cell_type": "code",
   "execution_count": null,
   "id": "8f55f426-5c74-40fe-807b-c82b191f70fb",
   "metadata": {},
   "outputs": [],
   "source": [
    "# Export kustomization resources of cluster groups\n",
    "./015-clustergroup-kustomizations-export.sh"
   ]
  },
  {
   "cell_type": "code",
   "execution_count": null,
   "id": "e956ab88-0094-4df8-a3d0-12b84a588c8f",
   "metadata": {},
   "outputs": [],
   "source": [
    "# Export helm resources of cluster groups\n",
    "./016-clustergroup-helms-export.sh"
   ]
  },
  {
   "cell_type": "code",
   "execution_count": null,
   "id": "b95292d7-23ab-442e-933f-016a1bb008f6",
   "metadata": {},
   "outputs": [],
   "source": [
    "# Export helm release resources of cluster groups\n",
    "./017-clustergroup-helm-releases-export.sh"
   ]
  },
  {
   "cell_type": "markdown",
   "id": "ae7a172d-4c42-4b8f-991c-8e10052a0e53",
   "metadata": {},
   "source": [
    "## Export add-on resources of clusters"
   ]
  },
  {
   "cell_type": "code",
   "execution_count": null,
   "id": "1454c644-0e05-4ccc-a783-20124cf2bab1",
   "metadata": {},
   "outputs": [],
   "source": [
    "# Export managed namespace resources of clusters\n",
    "./018-cluster-namespaces-export.sh"
   ]
  },
  {
   "cell_type": "code",
   "execution_count": null,
   "id": "25c2b113-fff5-4903-959c-4d9a10a5fac8",
   "metadata": {},
   "outputs": [],
   "source": [
    "# Export k8s secret resources of clusters\n",
    "./019-cluster-secrets-export.sh"
   ]
  },
  {
   "cell_type": "code",
   "execution_count": null,
   "id": "d4e712a8-8ffd-4478-96b8-0e413c72f012",
   "metadata": {},
   "outputs": [],
   "source": [
    "# Export k8s secret export resources of clusters\n",
    "./020-cluster-secret-exports-export.sh"
   ]
  },
  {
   "cell_type": "code",
   "execution_count": null,
   "id": "ec7809d2-954d-4e74-b25e-608060b830db",
   "metadata": {},
   "outputs": [],
   "source": [
    "# Export fluxcd resources of clusters\n",
    "./021-cluster-continuous-deliveries-export.sh"
   ]
  },
  {
   "cell_type": "code",
   "execution_count": null,
   "id": "7dad675f-1cdd-406b-bdf8-3f2af12e583c",
   "metadata": {},
   "outputs": [],
   "source": [
    "# Export git repo credential resources of clusters\n",
    "./022-cluster-repository-credentials-export.sh"
   ]
  },
  {
   "cell_type": "code",
   "execution_count": null,
   "id": "32877cfb-b983-4890-b214-a41d4da96054",
   "metadata": {},
   "outputs": [],
   "source": [
    "# Export git repository resources of clusters\n",
    "./023-cluster-git-repositories-export.sh"
   ]
  },
  {
   "cell_type": "code",
   "execution_count": null,
   "id": "5cd8c631-54cd-40ca-b6f1-6a2dc69ee719",
   "metadata": {},
   "outputs": [],
   "source": [
    "# Export kustomization resources of clusters\n",
    "./024-cluster-kustomizations-export.sh"
   ]
  },
  {
   "cell_type": "code",
   "execution_count": null,
   "id": "9f141f58-30fe-40db-acfc-d32ee7d69853",
   "metadata": {},
   "outputs": [],
   "source": [
    "# Export helm resources of clusters\n",
    "./025-cluster-helms-export.sh"
   ]
  },
  {
   "cell_type": "code",
   "execution_count": null,
   "id": "bc30fd6f-f119-42e3-aeca-0bc49d884b3e",
   "metadata": {},
   "outputs": [],
   "source": [
    "# Export helm release resources of clusters\n",
    "./026-cluster-helm-releases-export.sh"
   ]
  },
  {
   "cell_type": "markdown",
   "id": "cd17f2f6-37e6-411e-8183-b0496214c52e",
   "metadata": {},
   "source": [
    "## Export data protection resources"
   ]
  },
  {
   "cell_type": "code",
   "execution_count": null,
   "id": "a2c2c9c6-63f8-4f39-9bba-78ac99e8913b",
   "metadata": {},
   "outputs": [],
   "source": [
    "# Export data-protection\n",
    "./027-cluster-data_protection-export.sh"
   ]
  },
  {
   "cell_type": "markdown",
   "id": "4ad51429-f067-460e-ae27-eec30b8ce3e4",
   "metadata": {},
   "source": [
    "## Export Polices"
   ]
  },
  {
   "cell_type": "markdown",
   "id": "8ed05250-a58a-4494-afef-19ad9aa29535",
   "metadata": {},
   "source": [
    "### ES-28: Export Access Policies from SaaS"
   ]
  },
  {
   "cell_type": "code",
   "execution_count": null,
   "id": "b24cc714-4ebe-4809-9d8c-e774cbc6304b",
   "metadata": {
    "scrolled": true
   },
   "outputs": [],
   "source": [
    "./028-base-access-policies-export.sh"
   ]
  },
  {
   "cell_type": "markdown",
   "id": "a6f12c31-324d-45f5-841b-ca8a9c0453f9",
   "metadata": {},
   "source": [
    "### ES-29: Export Policy Templates"
   ]
  },
  {
   "cell_type": "code",
   "execution_count": null,
   "id": "1c700eeb-b049-4d78-b069-607f473b4ced",
   "metadata": {},
   "outputs": [],
   "source": [
    "./029-base-policy-templates-export.sh"
   ]
  },
  {
   "cell_type": "markdown",
   "id": "d525f50b-c736-4f47-a8ed-5e60721fa810",
   "metadata": {},
   "source": [
    "### ES-30: Export Policy Assignments"
   ]
  },
  {
   "cell_type": "code",
   "execution_count": null,
   "id": "834b06de-8b7e-45fa-b358-5c588b10ba2a",
   "metadata": {
    "scrolled": true
   },
   "outputs": [],
   "source": [
    "./030-base-policy-assignments-export.sh"
   ]
  },
  {
   "cell_type": "markdown",
   "id": "184e32b0-353e-4872-9285-97a42a87bbc4",
   "metadata": {},
   "source": [
    "## Offboard clusters from SaaS"
   ]
  },
  {
   "cell_type": "markdown",
   "id": "cddc8330-2071-4302-8ddf-6cd2c5ccfcc7",
   "metadata": {},
   "source": [
    "### Managed clusters (VKS/TKG)\n",
    "\n",
    "#### Export managed clusters\n",
    "**NOTE:** Set environment variable `TMC_MC_FILTER=\"mc_cluster1,mc_cluster2\"` to export the clusters under the specified management clusters only."
   ]
  },
  {
   "cell_type": "code",
   "execution_count": null,
   "id": "fd11bbc9-c31d-4a4d-a0c8-7a955145ed69",
   "metadata": {},
   "outputs": [],
   "source": [
    "export TMC_MC_FILTER=\"sc-803\"\n",
    "echo \"TMC_MC_FILTER=$TMC_MC_FILTER\"\n",
    "\n",
    "./031-base-managed_clusters-export.sh"
   ]
  },
  {
   "cell_type": "markdown",
   "id": "769d94c8-1870-4a5c-a3ef-240888630877",
   "metadata": {},
   "source": [
    "#### Offboard managed clusters"
   ]
  },
  {
   "cell_type": "code",
   "execution_count": null,
   "id": "130d4d49-11cd-476f-8a6d-db9d298effca",
   "metadata": {},
   "outputs": [],
   "source": [
    "./031-base-managed_clusters-offboard.sh"
   ]
  },
  {
   "cell_type": "markdown",
   "id": "68a3e5c3-3f3c-4b8c-90f4-e44d676d66ca",
   "metadata": {},
   "source": [
    "### Attached clusters\n",
    "\n",
    "#### Export attached clusters\n",
    "\n",
    "**NOTE:** Set environment variable `CLUSTER_NAME_FILTER=\"cluster1,cluster2\"` to export the specified attached clusters only."
   ]
  },
  {
   "cell_type": "code",
   "execution_count": null,
   "id": "2720fa41-beb7-47d8-81d4-70b74bf4150c",
   "metadata": {},
   "outputs": [],
   "source": [
    "export CLUSTER_NAME_FILTER=\"wc-02\"\n",
    "echo \"CLUSTER_NAME_FILTER=$CLUSTER_NAME_FILTER\"\n",
    "\n",
    "./032-base-attached_clusters-export.sh"
   ]
  },
  {
   "cell_type": "markdown",
   "id": "31fa1325-6bc1-4cd4-aebf-f06dc8ba5e51",
   "metadata": {},
   "source": [
    "#### Offboard attached clusters"
   ]
  },
  {
   "cell_type": "code",
   "execution_count": null,
   "id": "85b930f1-b99b-4095-9e1d-4ef7ca98e462",
   "metadata": {},
   "outputs": [],
   "source": [
    "./032-base-attached_clusters-offboard.sh"
   ]
  },
  {
   "cell_type": "markdown",
   "id": "83d828cc-5e21-4133-b628-5cd4b75a7556",
   "metadata": {},
   "source": [
    "**NOTE: Cluster unmanage/detach/deregister may need a bit more time, even if the command is returned. Suggest double-checking from the SaaS stack to ensure all the clusters are offboarded before proceeding to the next steps.**"
   ]
  },
  {
   "cell_type": "markdown",
   "id": "fdb33247-117b-4a67-b436-160094a6a446",
   "metadata": {},
   "source": [
    "## Connect to the TMC SM stack to onboard clusters and restore resources\n",
    "\n",
    "**NOTE:** Set the necessary environment variables to initialize the CLI context\n",
    "\n",
    "**NOTE:** If the MFA feature of the IDP is enabled, export an extra environment variable.\n",
    "\n",
    "`export TMC_SM_IDP_MFA_ENABLED=true`"
   ]
  },
  {
   "cell_type": "code",
   "execution_count": null,
   "id": "f64e60ff-56c1-4010-8a26-1a20c93fbf0e",
   "metadata": {},
   "outputs": [],
   "source": [
    "echo \"Export environment variables for connecting SM stack\"\n",
    "\n",
    "export TMC_SELF_MANAGED_USERNAME=testuser01@tmcselfmanaged.com\n",
    "export TMC_SELF_MANAGED_PASSWORD=VMware1!\n",
    "export TMC_SELF_MANAGED_DNS=tmc.tanzu.io\n",
    "export TMC_SM_CONTEXT=tmc-sm\n",
    "\n",
    "echo \"TMC_SELF_MANAGED_USERNAME=$TMC_SELF_MANAGED_USERNAME\"\n",
    "echo \"TMC_SELF_MANAGED_PASSWORD=$TMC_SELF_MANAGED_PASSWORD\"\n",
    "echo \"TMC_SELF_MANAGED_DNS=$TMC_SELF_MANAGED_DNS\"\n",
    "echo \"TMC_SM_CONTEXT=$TMC_SM_CONTEXT\"\n",
    "\n",
    "echo \"Run 033-base-sm_stack-connect.sh to init CLI context for SM stack\"\n",
    "./033-base-sm_stack-connect.sh"
   ]
  },
  {
   "cell_type": "code",
   "execution_count": null,
   "id": "148e72a5-bb1e-4602-af21-35a3de024a36",
   "metadata": {},
   "outputs": [],
   "source": [
    "tanzu context current"
   ]
  },
  {
   "cell_type": "markdown",
   "id": "c66afe0e-ed66-42d7-9bc7-aeecabdbcbeb",
   "metadata": {},
   "source": [
    "## Import resources PRE cluster onboard"
   ]
  },
  {
   "cell_type": "markdown",
   "id": "e279be4f-5122-4b73-b741-99349ec7329c",
   "metadata": {},
   "source": [
    "### Import base resources"
   ]
  },
  {
   "cell_type": "code",
   "execution_count": null,
   "id": "b7ec122c-a301-47c2-8194-b554f44e1714",
   "metadata": {},
   "outputs": [],
   "source": [
    "# Import Cluster Groups\n",
    "./034-base-clustergroups-import.sh"
   ]
  },
  {
   "cell_type": "code",
   "execution_count": null,
   "id": "936add6d-5e97-48bf-838b-15eb7a8522db",
   "metadata": {},
   "outputs": [],
   "source": [
    "# Import Workspaces\n",
    "./035-base-workspaces-import.sh"
   ]
  },
  {
   "cell_type": "markdown",
   "id": "2630ce4b-56e6-4037-89e4-adcd1a166b85",
   "metadata": {},
   "source": [
    "### Import administration resources"
   ]
  },
  {
   "cell_type": "code",
   "execution_count": null,
   "id": "d35dd27c-df14-4d9d-bf57-a8185505b2ee",
   "metadata": {},
   "outputs": [],
   "source": [
    "# Import Roles\n",
    "./036-admin-roles-import.sh"
   ]
  },
  {
   "cell_type": "code",
   "execution_count": null,
   "id": "bba04b5d-966e-486d-9e21-c0cccabf9223",
   "metadata": {},
   "outputs": [],
   "source": [
    "# Generate template yaml files for each credential And User need to fill in the missing values such as Crendentials and CA\n",
    "./037-admin-credentials-create-template.sh"
   ]
  },
  {
   "cell_type": "code",
   "execution_count": null,
   "id": "201ace4f-8f2e-45b8-aa65-c6d7834be62d",
   "metadata": {},
   "outputs": [],
   "source": [
    "# Import credentials\n",
    "./037-admin-credentials-import.sh"
   ]
  },
  {
   "cell_type": "code",
   "execution_count": null,
   "id": "5b3b072f-4de9-4273-84c6-a759deaeb806",
   "metadata": {},
   "outputs": [],
   "source": [
    "# Generate template yaml files for each proxy And User need to fill in the missing values such as Crendentials and CA\n",
    "./038-admin-proxy-create-template.sh"
   ]
  },
  {
   "cell_type": "code",
   "execution_count": null,
   "id": "1ee08056-7fbb-4f6d-9044-77a159d692f7",
   "metadata": {},
   "outputs": [],
   "source": [
    "# Import Proxy Configuration\n",
    "./038-admin-proxy-import.sh"
   ]
  },
  {
   "cell_type": "code",
   "execution_count": null,
   "id": "765d3461-3be0-4046-96e6-0e657b22be8d",
   "metadata": {},
   "outputs": [],
   "source": [
    "# Generate template yaml files for each Image-Registry And User need to fill in the missing values such as Crendentials and CA\n",
    "./039-admin-image-registry-create-template.sh"
   ]
  },
  {
   "cell_type": "code",
   "execution_count": null,
   "id": "294f8465-2e8c-4b3b-9f54-18b2655d4076",
   "metadata": {},
   "outputs": [],
   "source": [
    "# Import Image-Registry\n",
    "./039-admin-image-registry-import.sh"
   ]
  },
  {
   "cell_type": "markdown",
   "id": "8e2f94d4-673b-4d66-81bb-d1cbcb604d02",
   "metadata": {},
   "source": [
    "### Import add-on resources of cluster groups"
   ]
  },
  {
   "cell_type": "code",
   "execution_count": null,
   "id": "be51481b-0fe3-41fa-b04a-7e4aecea3a93",
   "metadata": {},
   "outputs": [],
   "source": [
    "# Import k8s secret resources to cluster groups\n",
    "./040-clustergroup-secrets-import.sh"
   ]
  },
  {
   "cell_type": "code",
   "execution_count": null,
   "id": "8bc648ec-197b-4357-a2db-a7139dccc75e",
   "metadata": {},
   "outputs": [],
   "source": [
    "# Import k8s secret export resources to cluster groups\n",
    "./041-clustergroup-secret-exports-import.sh"
   ]
  },
  {
   "cell_type": "markdown",
   "id": "dbaf71b8-31d3-46fd-bcfb-f3491c5b94ee",
   "metadata": {},
   "source": [
    "**USER ACTION REQUIRED TO IMPORT K8S SECRETS TO CLUSTER GROUPS**\n",
    "\n",
    "Next step is importing k8s secret resource to the cluster groups\n",
    "\n",
    "User must manually fill in the missing data fields depending on the type of k8s secret into the manifests in directory `./data/clustergroup-secrets`\n",
    "\n",
    "* SECRET_TYPE_OPAQUE\n",
    "  ```yaml\n",
    "  spec:\n",
    "    atomicSpec:\n",
    "      data: # filled data field\n",
    "        key1: base64-encoded-value1\n",
    "        key2: base64-encoded-value2\n",
    "      secretType: SECRET_TYPE_OPAQUE\n",
    "  ```\n",
    "* SECRET_TYPE_DOCKERCONFIGJSON\n",
    "  ```yaml\n",
    "  spec:\n",
    "    atomicSpec:\n",
    "      data: # filled data field\n",
    "        .dockerconfigjson: base64-encoded-dockerconfig-json-file\n",
    "      secretType: SECRET_TYPE_DOCKERCONFIGJSON\n",
    "  ```"
   ]
  },
  {
   "cell_type": "code",
   "execution_count": null,
   "id": "e7743b42-7ce9-42fc-9f79-cce16f49e8d1",
   "metadata": {},
   "outputs": [],
   "source": [
    "# Import fluxcd resources to cluster groups\n",
    "./042-clustergroup-continuous-deliveries-import.sh"
   ]
  },
  {
   "cell_type": "code",
   "execution_count": null,
   "id": "b8d75c0e-bc7a-4e73-b6df-b149dd938f4b",
   "metadata": {},
   "outputs": [],
   "source": [
    "# Import git repository credential resources to cluster groups\n",
    "./043-clustergroup-repository-credentials-import.sh"
   ]
  },
  {
   "cell_type": "markdown",
   "id": "c39767bb-ca83-47bc-97cf-b3d1a8c6a376",
   "metadata": {},
   "source": [
    "**USER ACTION REQUIRED TO IMPORT REPOSITORY CREDENTIALS TO CLUSTER GROUPS**\n",
    "\n",
    "Users must manually fill in the missing data field depending on the type of credential into the manifests in directory `./data/clustergroup-repository-credentials`\n",
    "\n",
    "* Username/Password\n",
    "  ```yaml\n",
    "  spec:\n",
    "    atomicSpec:\n",
    "      data: # filled data field\n",
    "        data:\n",
    "          username: bas64-encoded-username\n",
    "          password: base64-encoded-password\n",
    "      sourceSecretType: USERNAME_PASSWORD\n",
    "  ```\n",
    "* SSH Authentication\n",
    "  ```yaml\n",
    "  spec:\n",
    "    atomicSpec:\n",
    "      data: # filled data field\n",
    "        data:\n",
    "          identity: bas64-encoded-ssh-identity\n",
    "          known_hosts: base64-encoded-ssh-known-hosts\n",
    "      sourceSecretType: SSH\n",
    "  ```\n",
    "* CA Certificate\n",
    "  ```yaml\n",
    "  spec:\n",
    "    atomicSpec:\n",
    "      data: # filled data field\n",
    "        data:\n",
    "          ca.crt: bas64-encoded-ca-crt\n",
    "          username: base64-encoded-username  # username and password are optional\n",
    "          password: base64-encoded-password  # username and password are optional\n",
    "      sourceSecretType: CACert\n",
    "  ```"
   ]
  },
  {
   "cell_type": "code",
   "execution_count": null,
   "id": "d971bfa0-10c9-40a4-8d36-26a84191f517",
   "metadata": {},
   "outputs": [],
   "source": [
    "# Import git repository resources to cluster groups\n",
    "./044-clustergroup-git-repositories-import.sh"
   ]
  },
  {
   "cell_type": "code",
   "execution_count": null,
   "id": "9bfb9c1b-e464-4014-a4d8-c850bed2f2d3",
   "metadata": {},
   "outputs": [],
   "source": [
    "# Import kustomization resources to cluster groups\n",
    "./045-clustergroup-kustomizations-import.sh"
   ]
  },
  {
   "cell_type": "code",
   "execution_count": null,
   "id": "806ca859-4eca-4942-bfef-ff72d07358c6",
   "metadata": {},
   "outputs": [],
   "source": [
    "# Import helm resources to cluster groups\n",
    "./046-clustergroup-helms-import.sh"
   ]
  },
  {
   "cell_type": "code",
   "execution_count": null,
   "id": "2357bad9-d78d-4bf4-862d-80d789539975",
   "metadata": {},
   "outputs": [],
   "source": [
    "# Import helm release resources to cluster groups\n",
    "./047-clustergroup-helm-releases-import.sh"
   ]
  },
  {
   "cell_type": "markdown",
   "id": "403013c7-72a7-47bf-a40d-f51ab72f2959",
   "metadata": {},
   "source": [
    "## Onboard the exported clusters to the SM stack"
   ]
  },
  {
   "cell_type": "markdown",
   "id": "304515d4-198d-4ac5-b687-c29329cc1af3",
   "metadata": {},
   "source": [
    "### Managed clusters (VKS/TKGM)\n",
    "\n",
    "Run script `048-base-managed_clusters-input_from_user.sh` to generate a placeholder kubeconfig index file of exported management clusters.\n",
    "\n",
    "**NOTE**: Update the generated kubeconfig index file `clusters/mc-kubeconfig-index-file` by replacing the placeholder text '/path/to/the/real/mc_kubeconfig/file' with the real kubeconfig file of the onboarding management clusters before moving to the next step.\n"
   ]
  },
  {
   "cell_type": "code",
   "execution_count": null,
   "id": "674caad5-3666-4bbd-9c38-56b396a9e342",
   "metadata": {},
   "outputs": [],
   "source": [
    "./048-base-managed_clusters-input_from_user.sh\n",
    "cat data/clusters/mc-kubeconfig-index-file"
   ]
  },
  {
   "cell_type": "markdown",
   "id": "468ea0d5-a4ce-4c7d-91ce-fe99eca1977d",
   "metadata": {},
   "source": [
    "**NOTE:** If the onboarding clusters are exported without proxy settings, but proxy settings are needed for SM, modify the cluster configurations under `data/clusters/wc_of_{{MANAGEMENT-CLUSTER-NAME}}.yaml`.\n",
    "If the onboarding clusters are exported with proxy settings, they will be configured with the same proxy settings that have been imported in the previous step.\n",
    "\n",
    "Modify:\n",
    "```yaml\n",
    "spec:\n",
    "  proxyName: <YOUR-PROXY-ON-SM>\n",
    "```\n",
    "\n",
    "**Run managed cluster onboard script**"
   ]
  },
  {
   "cell_type": "code",
   "execution_count": null,
   "id": "958b27a8-343d-4c1b-b504-2cf97574af95",
   "metadata": {},
   "outputs": [],
   "source": [
    "./048-base-managed_clusters-onboard.sh"
   ]
  },
  {
   "cell_type": "markdown",
   "id": "5ad95668-0a50-4ac9-a2c5-a3e87319490b",
   "metadata": {},
   "source": [
    "### Attached clusters\n",
    "\n",
    "Run script `049-base-attached_clusters-input_from_user.sh` to generate a placeholder kubeconfig index file of exported attached clusters\n",
    "\n",
    "**NOTE**: Update the generated kubeconfig index file `clusters/attached-wc-kubeconfig-index-file` by replacing the placeholder text '/path/to/the/real/wc_kubeconfig/file' with the real kubeconfig file of the onboarding attached clusters before moving to the next step."
   ]
  },
  {
   "cell_type": "code",
   "execution_count": null,
   "id": "4dd15173-f843-4205-a60e-1f3a809f310e",
   "metadata": {},
   "outputs": [],
   "source": [
    "./049-base-attached_clusters-input_from_user.sh\n",
    "cat data/clusters/attached-wc-kubeconfig-index-file"
   ]
  },
  {
   "cell_type": "markdown",
   "id": "f43a6eb5-fdba-4a5f-9098-91b0b21c7541",
   "metadata": {},
   "source": [
    "**NOTE:** If the onboarding clusters are exported without proxy settings, but proxy settings are needed for SM, modify the cluster configurations under `clusters/attached_clusters.yaml`.\n",
    "If the onboarding clusters are exported with proxy settings, they will be configured with the same proxy settings that have been imported in the previous step.\n",
    "\n",
    "Modify:\n",
    "```yaml\n",
    "spec:\n",
    "  proxyName: <YOUR-PROXY-ON-SM>\n",
    "```\n",
    "\n",
    "**Run the attached cluster onboard script**"
   ]
  },
  {
   "cell_type": "code",
   "execution_count": null,
   "id": "3bce4c95-8825-495a-8714-c003d67b2b14",
   "metadata": {},
   "outputs": [],
   "source": [
    "./049-base-attached_clusters-onboard.sh"
   ]
  },
  {
   "cell_type": "markdown",
   "id": "335c3871-6d67-4a61-9f51-3eb6fcf4f81b",
   "metadata": {},
   "source": [
    "### Check readiness of all onboarded clusters\n",
    "Run the script to verify the readiness of all onboarded clusters to ensure they are healthy before beginning resource import."
   ]
  },
  {
   "cell_type": "code",
   "execution_count": null,
   "id": "fe540487-d9a5-45e6-aeff-7df960f99207",
   "metadata": {},
   "outputs": [],
   "source": [
    "./049-base-whole_clusters-check_readiness.sh"
   ]
  },
  {
   "cell_type": "markdown",
   "id": "21636e3f-8e30-4784-8778-37e7e7b1c588",
   "metadata": {},
   "source": [
    "## Import resources POST cluster onboard"
   ]
  },
  {
   "cell_type": "markdown",
   "id": "dabacf8c-d138-4266-8615-051ed271cd28",
   "metadata": {},
   "source": [
    "### Import add-on resources of clusters"
   ]
  },
  {
   "cell_type": "code",
   "execution_count": null,
   "id": "920dc014-007a-4829-b774-f097b06b29df",
   "metadata": {},
   "outputs": [],
   "source": [
    "# Import managed namespace resources to clusters\n",
    "./050-cluster-namespaces-import.sh"
   ]
  },
  {
   "cell_type": "code",
   "execution_count": null,
   "id": "b5ad7b49-bcad-45c7-aa07-29a8c32532f1",
   "metadata": {},
   "outputs": [],
   "source": [
    "# Import k8s secret resources to clusters\n",
    "./051-cluster-secrets-import.sh"
   ]
  },
  {
   "cell_type": "markdown",
   "id": "9bd08bee-1934-44bd-8e03-d14a9e1c5696",
   "metadata": {},
   "source": [
    "**USER ACTION REQUIRED TO IMPORT K8S SECRETS TO CLUSTERS**\n",
    "\n",
    "Users must manually fill in the missing data field depending on the type of k8s secret into the manifests in directory `./data/cluster-secrets`\n",
    "\n",
    "* SECRET_TYPE_OPAQUE\n",
    "  ```yaml\n",
    "  spec:\n",
    "    data: # filled data field\n",
    "      your-secret-key1: base64-encoded-value1\n",
    "      your-secret-key2: base64-encoded-value2\n",
    "    secretType: SECRET_TYPE_OPAQUE\n",
    "  ```\n",
    "* SECRET_TYPE_DOCKERCONFIGJSON\n",
    "  ```yaml\n",
    "  spec:\n",
    "    data: # filled data field\n",
    "      .dockerconfigjson: base64-encoded-dockerconfig-json-file\n",
    "    secretType: SECRET_TYPE_DOCKERCONFIGJSON\n",
    "  ```"
   ]
  },
  {
   "cell_type": "code",
   "execution_count": null,
   "id": "12dda37c-351e-4e3a-931a-5ae1d32a592d",
   "metadata": {},
   "outputs": [],
   "source": [
    "# Import k8s secret export resources to clusters\n",
    "./052-cluster-secret-exports-import.sh"
   ]
  },
  {
   "cell_type": "code",
   "execution_count": null,
   "id": "07430532-64d1-4b9e-97f3-f77c2be50181",
   "metadata": {},
   "outputs": [],
   "source": [
    "# Import fluxcd resources to clusters\n",
    "./053-cluster-continuous-deliveries-import.sh"
   ]
  },
  {
   "cell_type": "code",
   "execution_count": null,
   "id": "3b7ab30f-65a3-435f-ae54-267918bdb01c",
   "metadata": {},
   "outputs": [],
   "source": [
    "# Import git repository credential resources to clusters\n",
    "./054-cluster-repository-credentials-import.sh"
   ]
  },
  {
   "cell_type": "markdown",
   "id": "1cc122e6-2b8a-4759-94bf-27f024236482",
   "metadata": {},
   "source": [
    "**USER ACTION REQUIRED TO IMPORT REPOSITORY CREDENTIALS TO CLUSTERS**\n",
    "\n",
    "Users must manually fill in the missing data field depending on the type of credential into the manifests in directory `./data/cluster-repository-credentials`\n",
    "\n",
    "* Username/Password\n",
    "  ```yaml\n",
    "  spec:\n",
    "    data: # filled data field\n",
    "      data:\n",
    "        username: bas64-encoded-username\n",
    "        password: base64-encoded-password\n",
    "    sourceSecretType: USERNAME_PASSWORD\n",
    "  ```\n",
    "* SSH Authentication\n",
    "  ```yaml\n",
    "  spec:\n",
    "    data: # filled data field\n",
    "      data:\n",
    "        identity: bas64-encoded-ssh-identity\n",
    "        known_hosts: base64-encoded-ssh-known-hosts\n",
    "    sourceSecretType: SSH\n",
    "  ```\n",
    "* CA Certificate\n",
    "  ```yaml\n",
    "  spec:\n",
    "    data: # filled data field\n",
    "      data:\n",
    "        ca.crt: bas64-encoded-ca-crt\n",
    "        username: base64-encoded-username  # username and password are optional\n",
    "        password: base64-encoded-password  # username and password are optional\n",
    "    sourceSecretType: CACert\n",
    "  ```"
   ]
  },
  {
   "cell_type": "code",
   "execution_count": null,
   "id": "0383e1e3-b537-4815-82ea-c302b37e5372",
   "metadata": {},
   "outputs": [],
   "source": [
    "# Import git repository resources to clusters\n",
    "./055-cluster-git-repositories-import.sh"
   ]
  },
  {
   "cell_type": "code",
   "execution_count": null,
   "id": "06e8f65e-3efc-46a9-9a66-9ee9ff7493ad",
   "metadata": {},
   "outputs": [],
   "source": [
    "# Import kustomization resources to clusters\n",
    "./056-cluster-kustomizations-import.sh"
   ]
  },
  {
   "cell_type": "code",
   "execution_count": null,
   "id": "aa44b688-2b5b-429e-a7dc-78e1de156ff1",
   "metadata": {},
   "outputs": [],
   "source": [
    "# Import helm resources to clusters\n",
    "./057-cluster-helms-import.sh"
   ]
  },
  {
   "cell_type": "code",
   "execution_count": null,
   "id": "141f6e1c-687b-404b-ace1-0088a1c004cc",
   "metadata": {},
   "outputs": [],
   "source": [
    "# Import helm releases resources to clusters\n",
    "./058-cluster-helm-releases-import.sh"
   ]
  },
  {
   "cell_type": "markdown",
   "id": "299106c1-d72e-4a5b-8e6c-f71051b02273",
   "metadata": {},
   "source": [
    "### Import administration resources"
   ]
  },
  {
   "cell_type": "code",
   "execution_count": null,
   "id": "fd3bab2b-867d-4695-a0d9-c39d7aa80677",
   "metadata": {},
   "outputs": [],
   "source": [
    "# Import Admin Settings\n",
    "./059-admin-settings-import.sh"
   ]
  },
  {
   "cell_type": "code",
   "execution_count": null,
   "id": "f3b700c8-0433-49bb-a7c9-ae7a09bdc5a5",
   "metadata": {},
   "outputs": [],
   "source": [
    "# Import Admin Access\n",
    "./060-admin-access-import.sh"
   ]
  },
  {
   "cell_type": "markdown",
   "id": "6902f7d6-9ddc-4177-adbc-f5c5dcc18d5c",
   "metadata": {},
   "source": [
    "### Import Policies"
   ]
  },
  {
   "cell_type": "markdown",
   "id": "236bf230-bb7c-476f-a32d-9abe08f98bb5",
   "metadata": {},
   "source": [
    "#### ES-61: Import Access Policies\n",
    "**Note**: You should edit the user and usergroup identities according to the idP in TMC SM after imported access policies."
   ]
  },
  {
   "cell_type": "markdown",
   "id": "d3707cfc-1275-4e90-92c2-c520d5a982b7",
   "metadata": {},
   "source": [
    "* Import Access Policies on Organization, Clustergroups, Workspaces"
   ]
  },
  {
   "cell_type": "code",
   "execution_count": null,
   "id": "07cbcc01-ac2f-4c36-9cbc-f302ff2031a9",
   "metadata": {},
   "outputs": [],
   "source": [
    "./061-base-access-policies-import.sh"
   ]
  },
  {
   "cell_type": "markdown",
   "id": "283047b1-a7a0-41ea-a169-ca57ea61ceb0",
   "metadata": {},
   "source": [
    "* Import Access Policies on Clusters and Namespaces"
   ]
  },
  {
   "cell_type": "code",
   "execution_count": null,
   "id": "ce98c1d8-ce88-4602-8003-98f3c20009a5",
   "metadata": {},
   "outputs": [],
   "source": [
    "./061-cluster-access-policies-import.sh"
   ]
  },
  {
   "cell_type": "markdown",
   "id": "d75e1777-32de-4b79-95f7-3e4a4f259838",
   "metadata": {},
   "source": [
    "#### ES-62: Import Policy Templates"
   ]
  },
  {
   "cell_type": "code",
   "execution_count": null,
   "id": "110b5a56-e5f5-4d5f-b8b9-ff9f1e813569",
   "metadata": {},
   "outputs": [],
   "source": [
    "./062-base-policy-templates-import.sh"
   ]
  },
  {
   "cell_type": "markdown",
   "id": "5e0f2a77-e63b-45a4-9c3a-b43e4b9b3938",
   "metadata": {},
   "source": [
    "#### ES-63: Import Policy Assignments"
   ]
  },
  {
   "cell_type": "markdown",
   "id": "7354d18c-a996-4cce-a6ff-68ad9b61248b",
   "metadata": {},
   "source": [
    "* Import policy assignments on organizations, clustergroups and workspaces"
   ]
  },
  {
   "cell_type": "code",
   "execution_count": null,
   "id": "bac0282e-d6bd-43fc-8f0e-2e112df71c1d",
   "metadata": {},
   "outputs": [],
   "source": [
    "./063-base-policy-assignments-import.sh"
   ]
  },
  {
   "cell_type": "markdown",
   "id": "18d03b2f-d606-4a0d-ad86-2f437e60e2dd",
   "metadata": {},
   "source": [
    "* Import policy assignments on clusters"
   ]
  },
  {
   "cell_type": "code",
   "execution_count": null,
   "id": "eb002db1-b255-4f78-9c64-bfc3758ee103",
   "metadata": {},
   "outputs": [],
   "source": [
    "./063-cluster-policy-assignments-import.sh"
   ]
  },
  {
   "cell_type": "markdown",
   "id": "875255e8-f496-4eb7-8bf4-5dd82c6476b0",
   "metadata": {},
   "source": [
    "### Import data protection resources"
   ]
  },
  {
   "cell_type": "code",
   "execution_count": null,
   "id": "2fabe8e7-f82b-45ba-8aa8-6bb67ee6d482",
   "metadata": {},
   "outputs": [],
   "source": [
    "./064-cluster-data_protection-import.sh"
   ]
  },
  {
   "cell_type": "code",
   "execution_count": null,
   "id": "de033fe6-d757-4a02-a639-115353d612f5",
   "metadata": {},
   "outputs": [],
   "source": []
  }
 ],
 "metadata": {
  "kernelspec": {
   "display_name": "Bash",
   "language": "bash",
   "name": "bash"
  },
  "language_info": {
   "codemirror_mode": "shell",
   "file_extension": ".sh",
   "mimetype": "text/x-sh",
   "name": "bash"
  }
 },
 "nbformat": 4,
 "nbformat_minor": 5
}
